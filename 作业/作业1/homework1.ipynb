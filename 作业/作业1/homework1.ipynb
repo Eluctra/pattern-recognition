{
 "cells": [
  {
   "cell_type": "code",
   "execution_count": 1,
   "metadata": {},
   "outputs": [],
   "source": [
    "import numpy as np"
   ]
  },
  {
   "cell_type": "code",
   "execution_count": 15,
   "metadata": {},
   "outputs": [
    {
     "name": "stdout",
     "output_type": "stream",
     "text": [
      "alpha1 [[0.095 0.148 0.044]]\n",
      "alpha2 [[0.02605 0.04008 0.01347]]\n",
      "alpha3 [[0.0058068 0.0055954 0.0111318]]\n",
      "alpha4 [[0.00045279 0.00358617 0.00542438]]\n",
      "\n",
      "possibility 0.009463346000000001\n"
     ]
    }
   ],
   "source": [
    "A = np.array([[0.3, 0.2, 0.5],\n",
    "              [0.1, 0.4, 0.5],\n",
    "              [0.2, 0.5, 0.3]])\n",
    "B = np.array([[0.4, 0.5, 0.1],\n",
    "              [0.2, 0.4, 0.4],\n",
    "              [0.3, 0.1, 0.6]])\n",
    "alpha = np.array([0.3, 0.4, 0.3]).reshape((1, 3))\n",
    "V = [2, 2, 1, 3]\n",
    "\n",
    "for i, v in enumerate(V):\n",
    "    alpha = (alpha @ A) * B[:, v - 1].T\n",
    "    print('alpha{}'.format(i + 1), alpha)\n",
    "\n",
    "p = np.sum(alpha)\n",
    "print('\\npossibility', p)"
   ]
  }
 ],
 "metadata": {
  "kernelspec": {
   "display_name": "MyTensorflow",
   "language": "python",
   "name": "python3"
  },
  "language_info": {
   "codemirror_mode": {
    "name": "ipython",
    "version": 3
   },
   "file_extension": ".py",
   "mimetype": "text/x-python",
   "name": "python",
   "nbconvert_exporter": "python",
   "pygments_lexer": "ipython3",
   "version": "3.9.13"
  },
  "orig_nbformat": 4
 },
 "nbformat": 4,
 "nbformat_minor": 2
}
