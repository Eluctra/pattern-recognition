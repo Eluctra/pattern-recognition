{
 "cells": [
  {
   "cell_type": "code",
   "execution_count": 1,
   "metadata": {},
   "outputs": [],
   "source": [
    "import numpy as np\n",
    "import pandas as pd\n",
    "import matplotlib.pyplot as plt\n",
    "from heapq import nlargest"
   ]
  },
  {
   "cell_type": "code",
   "execution_count": 2,
   "metadata": {},
   "outputs": [],
   "source": [
    "DATAROOT = r'./data/'\n",
    "data = dict(\n",
    "    train=pd.read_csv(\n",
    "        DATAROOT + 'train.csv'\n",
    "    ).to_numpy(), \n",
    "    val=pd.read_csv(\n",
    "        DATAROOT + 'val.csv'\n",
    "    ).to_numpy(), \n",
    "    test=pd.read_csv(\n",
    "        DATAROOT + 'test_data.csv'\n",
    "    ).to_numpy()\n",
    ")"
   ]
  },
  {
   "cell_type": "code",
   "execution_count": 26,
   "metadata": {},
   "outputs": [],
   "source": [
    "class knn_euclidean:\n",
    "\n",
    "    def __init__(self, train):\n",
    "        self.data  = train[:, :-1]\n",
    "        self.label = train[:, -1]\n",
    "\n",
    "    def predict(self, x, k):\n",
    "        distance = np.linalg.norm(\n",
    "            self.data - x, \n",
    "            axis=-1\n",
    "        )\n",
    "        index = np.argpartition(\n",
    "            distance, kth=k\n",
    "        )\n",
    "        counts = dict()\n",
    "        neighbours_label = self.label[index[:k]]\n",
    "        for label in neighbours_label:\n",
    "            if label not in counts:\n",
    "                counts[label] = 1\n",
    "            else:\n",
    "                counts[label] += 1\n",
    "        most_category, _ = max(\n",
    "            counts.items(), \n",
    "            key=lambda x: x[1]\n",
    "        )\n",
    "        return most_category"
   ]
  },
  {
   "cell_type": "code",
   "execution_count": 32,
   "metadata": {},
   "outputs": [
    {
     "name": "stdout",
     "output_type": "stream",
     "text": [
      "accuracy: 1.0\n"
     ]
    }
   ],
   "source": [
    "model = knn_euclidean(data['train'])\n",
    "acc = 0\n",
    "for sample in data['val']:\n",
    "    pred = model.predict(sample[:-1], 5)\n",
    "    true = sample[-1]\n",
    "    if pred == true: acc += 1\n",
    "acc /= data['val'].shape[0]\n",
    "print('accuracy: {}'.format(acc))"
   ]
  },
  {
   "cell_type": "code",
   "execution_count": null,
   "metadata": {},
   "outputs": [],
   "source": [
    "class knn_mahalanobis:\n",
    "\n",
    "    def __init__(self, train):\n",
    "        self.data  = train[:, :-1]\n",
    "        self.label = train[:, -1]\n",
    "        self.A = None\n",
    "\n",
    "    def fit(self):\n",
    "        pass\n",
    "\n",
    "    def predict(self, x, k):\n",
    "        distance = np.array([\n",
    "            np.linalg.norm(self.A @ (y - x))\n",
    "            for y in self.data\n",
    "        ])\n",
    "        index = np.argpartition(\n",
    "            distance, kth=k\n",
    "        )\n",
    "        counts = dict()\n",
    "        neighbours_label = self.label[index[:k]]\n",
    "        for label in neighbours_label:\n",
    "            if label not in counts:\n",
    "                counts[label] = 1\n",
    "            else:\n",
    "                counts[label] += 1\n",
    "        most_category, _ = max(\n",
    "            counts.items(), \n",
    "            key=lambda x: x[1]\n",
    "        )\n",
    "        return most_category"
   ]
  }
 ],
 "metadata": {
  "kernelspec": {
   "display_name": "python",
   "language": "python",
   "name": "python3"
  },
  "language_info": {
   "codemirror_mode": {
    "name": "ipython",
    "version": 3
   },
   "file_extension": ".py",
   "mimetype": "text/x-python",
   "name": "python",
   "nbconvert_exporter": "python",
   "pygments_lexer": "ipython3",
   "version": "3.10.0"
  },
  "orig_nbformat": 4
 },
 "nbformat": 4,
 "nbformat_minor": 2
}
