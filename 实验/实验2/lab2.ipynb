{
 "cells": [
  {
   "cell_type": "code",
   "execution_count": 10,
   "metadata": {},
   "outputs": [],
   "source": [
    "import numpy as np\n",
    "import pandas as pd\n",
    "import matplotlib.pyplot as plt\n",
    "from heapq import nlargest"
   ]
  },
  {
   "cell_type": "code",
   "execution_count": 7,
   "metadata": {},
   "outputs": [],
   "source": [
    "DATAROOT = r'./data/'\n",
    "data = dict(\n",
    "    train=pd.read_csv(\n",
    "        DATAROOT + 'train.csv'\n",
    "    ).to_numpy(), \n",
    "    val=pd.read_csv(\n",
    "        DATAROOT + 'val.csv'\n",
    "    ).to_numpy(), \n",
    "    test=pd.read_csv(\n",
    "        DATAROOT + 'test_data.csv'\n",
    "    ).to_numpy()\n",
    ")"
   ]
  },
  {
   "cell_type": "code",
   "execution_count": null,
   "metadata": {},
   "outputs": [],
   "source": [
    "def KNN_euclidean(x, train, n):\n",
    "    train_data  = train[:, 0:-1]\n",
    "    train_label = train[:, -1]\n",
    "    distance = np.linalg.norm(\n",
    "        train_data - x, \n",
    "        axis=-1\n",
    "    )\n",
    "    index = nlargest(\n",
    "        n, \n",
    "        range(distance.size), \n",
    "        distance.take\n",
    "    )\n",
    "    neighbours = train_label[index]\n",
    "    counts = dict()\n",
    "    for cate in set(neighbours):\n",
    "        counts[cate] = neighbours"
   ]
  }
 ],
 "metadata": {
  "kernelspec": {
   "display_name": "python",
   "language": "python",
   "name": "python3"
  },
  "language_info": {
   "codemirror_mode": {
    "name": "ipython",
    "version": 3
   },
   "file_extension": ".py",
   "mimetype": "text/x-python",
   "name": "python",
   "nbconvert_exporter": "python",
   "pygments_lexer": "ipython3",
   "version": "3.10.0"
  },
  "orig_nbformat": 4
 },
 "nbformat": 4,
 "nbformat_minor": 2
}
